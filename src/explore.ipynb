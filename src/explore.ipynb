{
    "cells": [
        {
            "cell_type": "markdown",
            "metadata": {},
            "source": [
                "<br>\n",
                "\n",
                "<br>\n",
                "\n",
                "# 👩🏻‍👩🏻‍👧🏻‍👦🏻 **SOCIODEMOGRAPHIC AND HEALTH RESOURCE DATA**👩🏻‍👩🏻‍👧🏻‍👦🏻"
            ]
        },
        {
            "cell_type": "markdown",
            "metadata": {},
            "source": [
                "**LINEAR REGRESSION MODEL USING PANDAS AND PYTHON**"
            ]
        },
        {
            "cell_type": "markdown",
            "metadata": {},
            "source": [
                "<br>\n",
                "\n",
                "## **INDEX**\n",
                "\n",
                "- **STEP 1: PROBLEM DEFINITION AND DATA COLLECTION**\n",
                "- **STEP 2: DATA EXPLORATION AND CLEANING**\n",
                "- **STEP 3: UNIVARIATE VARIABLE ANALYSIS**\n",
                "\n",
                "\n",
                "<br>"
            ]
        },
        {
            "cell_type": "markdown",
            "metadata": {},
            "source": [
                "## **STEP 1: PROBLEM DEFINITION AND DATA COLLECTION**\n",
                "\n",
                "- 1.1. Problem Definition\n",
                "- 1.2. Library Importing\n",
                "- 1.3. Data Collection"
            ]
        },
        {
            "cell_type": "markdown",
            "metadata": {},
            "source": [
                "**1.1. PROBLEM DEFINITION**"
            ]
        },
        {
            "cell_type": "markdown",
            "metadata": {},
            "source": [
                "This project analyzes US county-level sociodemographic and health resource data collected between 2018 and 2019.  Understanding the interplay between **these factors is crucial for informing public health policy, resource allocation, and intervention strategies.**\n",
                "\n",
                "Variations in health outcomes across different counties may be influenced by both the availability of health resources and the specific sociodemographic characteristics of the population.\n",
                "\n"
            ]
        },
        {
            "cell_type": "markdown",
            "metadata": {},
            "source": [
                "**Problem Statement:**  The core problem this project addresses is determining the relationship between sociodemographic factors and health resources at the county level in the United States.  Specifically, we aim to identify which sociodemographic variables are most strongly associated with the availability and utilization of health resources."
            ]
        },
        {
            "cell_type": "markdown",
            "metadata": {},
            "source": [
                "<br>\n",
                "\n",
                "**1.2. LIBRARY IMPORTING**"
            ]
        },
        {
            "cell_type": "code",
            "execution_count": 2,
            "metadata": {},
            "outputs": [],
            "source": [
                "import pandas as pd\n",
                "import numpy as np\n",
                "import matplotlib.pyplot as plt\n",
                "import seaborn as sns\n",
                "from sklearn.model_selection import train_test_split\n",
                "from sklearn.preprocessing import StandardScaler\n",
                "from sklearn.feature_selection import SelectKBest, f_regression\n",
                "from sklearn.linear_model import LinearRegression, Lasso\n",
                "from sklearn.metrics import r2_score, mean_absolute_error, mean_squared_error\n",
                "import warnings\n",
                "warnings.filterwarnings(\"ignore\")"
            ]
        },
        {
            "cell_type": "markdown",
            "metadata": {},
            "source": [
                "**1.3. DATA COLLECTION**"
            ]
        },
        {
            "cell_type": "code",
            "execution_count": 6,
            "metadata": {},
            "outputs": [
                {
                    "data": {
                        "text/html": [
                            "<div>\n",
                            "<style scoped>\n",
                            "    .dataframe tbody tr th:only-of-type {\n",
                            "        vertical-align: middle;\n",
                            "    }\n",
                            "\n",
                            "    .dataframe tbody tr th {\n",
                            "        vertical-align: top;\n",
                            "    }\n",
                            "\n",
                            "    .dataframe thead th {\n",
                            "        text-align: right;\n",
                            "    }\n",
                            "</style>\n",
                            "<table border=\"1\" class=\"dataframe\">\n",
                            "  <thead>\n",
                            "    <tr style=\"text-align: right;\">\n",
                            "      <th></th>\n",
                            "      <th>fips</th>\n",
                            "      <th>TOT_POP</th>\n",
                            "      <th>0-9</th>\n",
                            "      <th>0-9 y/o % of total pop</th>\n",
                            "      <th>19-Oct</th>\n",
                            "      <th>10-19 y/o % of total pop</th>\n",
                            "      <th>20-29</th>\n",
                            "      <th>20-29 y/o % of total pop</th>\n",
                            "      <th>30-39</th>\n",
                            "      <th>30-39 y/o % of total pop</th>\n",
                            "      <th>...</th>\n",
                            "      <th>COPD_number</th>\n",
                            "      <th>diabetes_prevalence</th>\n",
                            "      <th>diabetes_Lower 95% CI</th>\n",
                            "      <th>diabetes_Upper 95% CI</th>\n",
                            "      <th>diabetes_number</th>\n",
                            "      <th>CKD_prevalence</th>\n",
                            "      <th>CKD_Lower 95% CI</th>\n",
                            "      <th>CKD_Upper 95% CI</th>\n",
                            "      <th>CKD_number</th>\n",
                            "      <th>Urban_rural_code</th>\n",
                            "    </tr>\n",
                            "  </thead>\n",
                            "  <tbody>\n",
                            "    <tr>\n",
                            "      <th>0</th>\n",
                            "      <td>1001</td>\n",
                            "      <td>55601</td>\n",
                            "      <td>6787</td>\n",
                            "      <td>12.206615</td>\n",
                            "      <td>7637</td>\n",
                            "      <td>13.735364</td>\n",
                            "      <td>6878</td>\n",
                            "      <td>12.370281</td>\n",
                            "      <td>7089</td>\n",
                            "      <td>12.749771</td>\n",
                            "      <td>...</td>\n",
                            "      <td>3644</td>\n",
                            "      <td>12.9</td>\n",
                            "      <td>11.9</td>\n",
                            "      <td>13.8</td>\n",
                            "      <td>5462</td>\n",
                            "      <td>3.1</td>\n",
                            "      <td>2.9</td>\n",
                            "      <td>3.3</td>\n",
                            "      <td>1326</td>\n",
                            "      <td>3</td>\n",
                            "    </tr>\n",
                            "    <tr>\n",
                            "      <th>1</th>\n",
                            "      <td>1003</td>\n",
                            "      <td>218022</td>\n",
                            "      <td>24757</td>\n",
                            "      <td>11.355276</td>\n",
                            "      <td>26913</td>\n",
                            "      <td>12.344167</td>\n",
                            "      <td>23579</td>\n",
                            "      <td>10.814964</td>\n",
                            "      <td>25213</td>\n",
                            "      <td>11.564429</td>\n",
                            "      <td>...</td>\n",
                            "      <td>14692</td>\n",
                            "      <td>12.0</td>\n",
                            "      <td>11.0</td>\n",
                            "      <td>13.1</td>\n",
                            "      <td>20520</td>\n",
                            "      <td>3.2</td>\n",
                            "      <td>3.0</td>\n",
                            "      <td>3.5</td>\n",
                            "      <td>5479</td>\n",
                            "      <td>4</td>\n",
                            "    </tr>\n",
                            "    <tr>\n",
                            "      <th>2</th>\n",
                            "      <td>1005</td>\n",
                            "      <td>24881</td>\n",
                            "      <td>2732</td>\n",
                            "      <td>10.980266</td>\n",
                            "      <td>2960</td>\n",
                            "      <td>11.896628</td>\n",
                            "      <td>3268</td>\n",
                            "      <td>13.134520</td>\n",
                            "      <td>3201</td>\n",
                            "      <td>12.865239</td>\n",
                            "      <td>...</td>\n",
                            "      <td>2373</td>\n",
                            "      <td>19.7</td>\n",
                            "      <td>18.6</td>\n",
                            "      <td>20.6</td>\n",
                            "      <td>3870</td>\n",
                            "      <td>4.5</td>\n",
                            "      <td>4.2</td>\n",
                            "      <td>4.8</td>\n",
                            "      <td>887</td>\n",
                            "      <td>6</td>\n",
                            "    </tr>\n",
                            "    <tr>\n",
                            "      <th>3</th>\n",
                            "      <td>1007</td>\n",
                            "      <td>22400</td>\n",
                            "      <td>2456</td>\n",
                            "      <td>10.964286</td>\n",
                            "      <td>2596</td>\n",
                            "      <td>11.589286</td>\n",
                            "      <td>3029</td>\n",
                            "      <td>13.522321</td>\n",
                            "      <td>3113</td>\n",
                            "      <td>13.897321</td>\n",
                            "      <td>...</td>\n",
                            "      <td>1789</td>\n",
                            "      <td>14.1</td>\n",
                            "      <td>13.2</td>\n",
                            "      <td>14.9</td>\n",
                            "      <td>2511</td>\n",
                            "      <td>3.3</td>\n",
                            "      <td>3.1</td>\n",
                            "      <td>3.6</td>\n",
                            "      <td>595</td>\n",
                            "      <td>2</td>\n",
                            "    </tr>\n",
                            "    <tr>\n",
                            "      <th>4</th>\n",
                            "      <td>1009</td>\n",
                            "      <td>57840</td>\n",
                            "      <td>7095</td>\n",
                            "      <td>12.266598</td>\n",
                            "      <td>7570</td>\n",
                            "      <td>13.087828</td>\n",
                            "      <td>6742</td>\n",
                            "      <td>11.656293</td>\n",
                            "      <td>6884</td>\n",
                            "      <td>11.901798</td>\n",
                            "      <td>...</td>\n",
                            "      <td>4661</td>\n",
                            "      <td>13.5</td>\n",
                            "      <td>12.6</td>\n",
                            "      <td>14.5</td>\n",
                            "      <td>6017</td>\n",
                            "      <td>3.4</td>\n",
                            "      <td>3.2</td>\n",
                            "      <td>3.7</td>\n",
                            "      <td>1507</td>\n",
                            "      <td>2</td>\n",
                            "    </tr>\n",
                            "  </tbody>\n",
                            "</table>\n",
                            "<p>5 rows × 108 columns</p>\n",
                            "</div>"
                        ],
                        "text/plain": [
                            "   fips  TOT_POP    0-9  0-9 y/o % of total pop  19-Oct  \\\n",
                            "0  1001    55601   6787               12.206615    7637   \n",
                            "1  1003   218022  24757               11.355276   26913   \n",
                            "2  1005    24881   2732               10.980266    2960   \n",
                            "3  1007    22400   2456               10.964286    2596   \n",
                            "4  1009    57840   7095               12.266598    7570   \n",
                            "\n",
                            "   10-19 y/o % of total pop  20-29  20-29 y/o % of total pop  30-39  \\\n",
                            "0                 13.735364   6878                 12.370281   7089   \n",
                            "1                 12.344167  23579                 10.814964  25213   \n",
                            "2                 11.896628   3268                 13.134520   3201   \n",
                            "3                 11.589286   3029                 13.522321   3113   \n",
                            "4                 13.087828   6742                 11.656293   6884   \n",
                            "\n",
                            "   30-39 y/o % of total pop  ...  COPD_number  diabetes_prevalence  \\\n",
                            "0                 12.749771  ...         3644                 12.9   \n",
                            "1                 11.564429  ...        14692                 12.0   \n",
                            "2                 12.865239  ...         2373                 19.7   \n",
                            "3                 13.897321  ...         1789                 14.1   \n",
                            "4                 11.901798  ...         4661                 13.5   \n",
                            "\n",
                            "   diabetes_Lower 95% CI  diabetes_Upper 95% CI  diabetes_number  \\\n",
                            "0                   11.9                   13.8             5462   \n",
                            "1                   11.0                   13.1            20520   \n",
                            "2                   18.6                   20.6             3870   \n",
                            "3                   13.2                   14.9             2511   \n",
                            "4                   12.6                   14.5             6017   \n",
                            "\n",
                            "   CKD_prevalence  CKD_Lower 95% CI  CKD_Upper 95% CI  CKD_number  \\\n",
                            "0             3.1               2.9               3.3        1326   \n",
                            "1             3.2               3.0               3.5        5479   \n",
                            "2             4.5               4.2               4.8         887   \n",
                            "3             3.3               3.1               3.6         595   \n",
                            "4             3.4               3.2               3.7        1507   \n",
                            "\n",
                            "   Urban_rural_code  \n",
                            "0                 3  \n",
                            "1                 4  \n",
                            "2                 6  \n",
                            "3                 2  \n",
                            "4                 2  \n",
                            "\n",
                            "[5 rows x 108 columns]"
                        ]
                    },
                    "execution_count": 6,
                    "metadata": {},
                    "output_type": "execute_result"
                }
            ],
            "source": [
                "df = pd.read_csv(\"https://raw.githubusercontent.com/4GeeksAcademy/regularized-linear-regression-project-tutorial/main/demographic_health_data.csv\")\n",
                "df.head()"
            ]
        },
        {
            "cell_type": "markdown",
            "metadata": {},
            "source": [
                "<br>\n",
                "\n",
                "## **STEP 2: DATA EXPLORATION AND CLEANING**\n",
                "\n",
                "- 2.1. Data Exploration.\n",
                "- 2.2. Data Cleaning.\n",
                "- \n",
                "\n",
                "\n",
                "<br>"
            ]
        },
        {
            "cell_type": "markdown",
            "metadata": {},
            "source": [
                "**2.1. DATA EXPLORATION**"
            ]
        },
        {
            "cell_type": "code",
            "execution_count": 22,
            "metadata": {},
            "outputs": [
                {
                    "data": {
                        "text/plain": [
                            "(3140, 108)"
                        ]
                    },
                    "execution_count": 22,
                    "metadata": {},
                    "output_type": "execute_result"
                }
            ],
            "source": [
                "df.shape"
            ]
        },
        {
            "cell_type": "markdown",
            "metadata": {},
            "source": [
                "This DataFrame contains **3140 ROWS** and **108 COLUMNS**\n",
                "\n",
                "<br>"
            ]
        },
        {
            "cell_type": "code",
            "execution_count": 16,
            "metadata": {},
            "outputs": [
                {
                    "name": "stdout",
                    "output_type": "stream",
                    "text": [
                        "<class 'pandas.core.frame.DataFrame'>\n",
                        "RangeIndex: 3140 entries, 0 to 3139\n",
                        "Columns: 108 entries, fips to Urban_rural_code\n",
                        "dtypes: float64(61), int64(45), object(2)\n",
                        "memory usage: 2.6+ MB\n"
                    ]
                }
            ],
            "source": [
                "df.info()"
            ]
        },
        {
            "cell_type": "code",
            "execution_count": 17,
            "metadata": {},
            "outputs": [
                {
                    "data": {
                        "text/html": [
                            "<div>\n",
                            "<style scoped>\n",
                            "    .dataframe tbody tr th:only-of-type {\n",
                            "        vertical-align: middle;\n",
                            "    }\n",
                            "\n",
                            "    .dataframe tbody tr th {\n",
                            "        vertical-align: top;\n",
                            "    }\n",
                            "\n",
                            "    .dataframe thead th {\n",
                            "        text-align: right;\n",
                            "    }\n",
                            "</style>\n",
                            "<table border=\"1\" class=\"dataframe\">\n",
                            "  <thead>\n",
                            "    <tr style=\"text-align: right;\">\n",
                            "      <th></th>\n",
                            "      <th>count</th>\n",
                            "      <th>mean</th>\n",
                            "      <th>std</th>\n",
                            "      <th>min</th>\n",
                            "      <th>25%</th>\n",
                            "      <th>50%</th>\n",
                            "      <th>75%</th>\n",
                            "      <th>max</th>\n",
                            "    </tr>\n",
                            "  </thead>\n",
                            "  <tbody>\n",
                            "    <tr>\n",
                            "      <th>fips</th>\n",
                            "      <td>3140.0</td>\n",
                            "      <td>30401.640764</td>\n",
                            "      <td>15150.559265</td>\n",
                            "      <td>1001.0</td>\n",
                            "      <td>18180.500000</td>\n",
                            "      <td>29178.000000</td>\n",
                            "      <td>45081.50000</td>\n",
                            "      <td>5.604500e+04</td>\n",
                            "    </tr>\n",
                            "    <tr>\n",
                            "      <th>TOT_POP</th>\n",
                            "      <td>3140.0</td>\n",
                            "      <td>104189.412420</td>\n",
                            "      <td>333583.395432</td>\n",
                            "      <td>88.0</td>\n",
                            "      <td>10963.250000</td>\n",
                            "      <td>25800.500000</td>\n",
                            "      <td>67913.00000</td>\n",
                            "      <td>1.010552e+07</td>\n",
                            "    </tr>\n",
                            "    <tr>\n",
                            "      <th>0-9</th>\n",
                            "      <td>3140.0</td>\n",
                            "      <td>12740.302866</td>\n",
                            "      <td>41807.301846</td>\n",
                            "      <td>0.0</td>\n",
                            "      <td>1280.500000</td>\n",
                            "      <td>3057.000000</td>\n",
                            "      <td>8097.00000</td>\n",
                            "      <td>1.208253e+06</td>\n",
                            "    </tr>\n",
                            "    <tr>\n",
                            "      <th>0-9 y/o % of total pop</th>\n",
                            "      <td>3140.0</td>\n",
                            "      <td>11.871051</td>\n",
                            "      <td>2.124081</td>\n",
                            "      <td>0.0</td>\n",
                            "      <td>10.594639</td>\n",
                            "      <td>11.802727</td>\n",
                            "      <td>12.95184</td>\n",
                            "      <td>2.546068e+01</td>\n",
                            "    </tr>\n",
                            "    <tr>\n",
                            "      <th>19-Oct</th>\n",
                            "      <td>3140.0</td>\n",
                            "      <td>13367.976752</td>\n",
                            "      <td>42284.392134</td>\n",
                            "      <td>0.0</td>\n",
                            "      <td>1374.500000</td>\n",
                            "      <td>3274.000000</td>\n",
                            "      <td>8822.25000</td>\n",
                            "      <td>1.239139e+06</td>\n",
                            "    </tr>\n",
                            "    <tr>\n",
                            "      <th>...</th>\n",
                            "      <td>...</td>\n",
                            "      <td>...</td>\n",
                            "      <td>...</td>\n",
                            "      <td>...</td>\n",
                            "      <td>...</td>\n",
                            "      <td>...</td>\n",
                            "      <td>...</td>\n",
                            "      <td>...</td>\n",
                            "    </tr>\n",
                            "    <tr>\n",
                            "      <th>CKD_prevalence</th>\n",
                            "      <td>3140.0</td>\n",
                            "      <td>3.446242</td>\n",
                            "      <td>0.568059</td>\n",
                            "      <td>1.8</td>\n",
                            "      <td>3.100000</td>\n",
                            "      <td>3.400000</td>\n",
                            "      <td>3.80000</td>\n",
                            "      <td>6.200000e+00</td>\n",
                            "    </tr>\n",
                            "    <tr>\n",
                            "      <th>CKD_Lower 95% CI</th>\n",
                            "      <td>3140.0</td>\n",
                            "      <td>3.207516</td>\n",
                            "      <td>0.527740</td>\n",
                            "      <td>1.7</td>\n",
                            "      <td>2.900000</td>\n",
                            "      <td>3.200000</td>\n",
                            "      <td>3.50000</td>\n",
                            "      <td>5.800000e+00</td>\n",
                            "    </tr>\n",
                            "    <tr>\n",
                            "      <th>CKD_Upper 95% CI</th>\n",
                            "      <td>3140.0</td>\n",
                            "      <td>3.710478</td>\n",
                            "      <td>0.613069</td>\n",
                            "      <td>1.9</td>\n",
                            "      <td>3.300000</td>\n",
                            "      <td>3.700000</td>\n",
                            "      <td>4.10000</td>\n",
                            "      <td>6.600000e+00</td>\n",
                            "    </tr>\n",
                            "    <tr>\n",
                            "      <th>CKD_number</th>\n",
                            "      <td>3140.0</td>\n",
                            "      <td>2466.234076</td>\n",
                            "      <td>7730.422067</td>\n",
                            "      <td>3.0</td>\n",
                            "      <td>314.750000</td>\n",
                            "      <td>718.000000</td>\n",
                            "      <td>1776.25000</td>\n",
                            "      <td>2.377660e+05</td>\n",
                            "    </tr>\n",
                            "    <tr>\n",
                            "      <th>Urban_rural_code</th>\n",
                            "      <td>3140.0</td>\n",
                            "      <td>4.635350</td>\n",
                            "      <td>1.510447</td>\n",
                            "      <td>1.0</td>\n",
                            "      <td>3.000000</td>\n",
                            "      <td>5.000000</td>\n",
                            "      <td>6.00000</td>\n",
                            "      <td>6.000000e+00</td>\n",
                            "    </tr>\n",
                            "  </tbody>\n",
                            "</table>\n",
                            "<p>106 rows × 8 columns</p>\n",
                            "</div>"
                        ],
                        "text/plain": [
                            "                         count           mean            std     min  \\\n",
                            "fips                    3140.0   30401.640764   15150.559265  1001.0   \n",
                            "TOT_POP                 3140.0  104189.412420  333583.395432    88.0   \n",
                            "0-9                     3140.0   12740.302866   41807.301846     0.0   \n",
                            "0-9 y/o % of total pop  3140.0      11.871051       2.124081     0.0   \n",
                            "19-Oct                  3140.0   13367.976752   42284.392134     0.0   \n",
                            "...                        ...            ...            ...     ...   \n",
                            "CKD_prevalence          3140.0       3.446242       0.568059     1.8   \n",
                            "CKD_Lower 95% CI        3140.0       3.207516       0.527740     1.7   \n",
                            "CKD_Upper 95% CI        3140.0       3.710478       0.613069     1.9   \n",
                            "CKD_number              3140.0    2466.234076    7730.422067     3.0   \n",
                            "Urban_rural_code        3140.0       4.635350       1.510447     1.0   \n",
                            "\n",
                            "                                 25%           50%          75%           max  \n",
                            "fips                    18180.500000  29178.000000  45081.50000  5.604500e+04  \n",
                            "TOT_POP                 10963.250000  25800.500000  67913.00000  1.010552e+07  \n",
                            "0-9                      1280.500000   3057.000000   8097.00000  1.208253e+06  \n",
                            "0-9 y/o % of total pop     10.594639     11.802727     12.95184  2.546068e+01  \n",
                            "19-Oct                   1374.500000   3274.000000   8822.25000  1.239139e+06  \n",
                            "...                              ...           ...          ...           ...  \n",
                            "CKD_prevalence              3.100000      3.400000      3.80000  6.200000e+00  \n",
                            "CKD_Lower 95% CI            2.900000      3.200000      3.50000  5.800000e+00  \n",
                            "CKD_Upper 95% CI            3.300000      3.700000      4.10000  6.600000e+00  \n",
                            "CKD_number                314.750000    718.000000   1776.25000  2.377660e+05  \n",
                            "Urban_rural_code            3.000000      5.000000      6.00000  6.000000e+00  \n",
                            "\n",
                            "[106 rows x 8 columns]"
                        ]
                    },
                    "execution_count": 17,
                    "metadata": {},
                    "output_type": "execute_result"
                }
            ],
            "source": [
                "df.describe().transpose()"
            ]
        },
        {
            "cell_type": "code",
            "execution_count": 20,
            "metadata": {},
            "outputs": [
                {
                    "data": {
                        "text/plain": [
                            "fips                      3140\n",
                            "TOT_POP                   3074\n",
                            "0-9                       2723\n",
                            "0-9 y/o % of total pop    3136\n",
                            "19-Oct                    2743\n",
                            "                          ... \n",
                            "CKD_prevalence              43\n",
                            "CKD_Lower 95% CI            39\n",
                            "CKD_Upper 95% CI            46\n",
                            "CKD_number                1894\n",
                            "Urban_rural_code             6\n",
                            "Length: 108, dtype: int64"
                        ]
                    },
                    "execution_count": 20,
                    "metadata": {},
                    "output_type": "execute_result"
                }
            ],
            "source": [
                "df.nunique()"
            ]
        },
        {
            "cell_type": "code",
            "execution_count": 27,
            "metadata": {},
            "outputs": [
                {
                    "name": "stdout",
                    "output_type": "stream",
                    "text": [
                        "THESE ARE ALL THE COLUMNS OF THE DATASET:\n",
                        "['fips', 'TOT_POP', '0-9', '0-9 y/o % of total pop', '19-Oct', '10-19 y/o % of total pop', '20-29', '20-29 y/o % of total pop', '30-39', '30-39 y/o % of total pop', '40-49', '40-49 y/o % of total pop', '50-59', '50-59 y/o % of total pop', '60-69', '60-69 y/o % of total pop', '70-79', '70-79 y/o % of total pop', '80+', '80+ y/o % of total pop', 'White-alone pop', '% White-alone', 'Black-alone pop', '% Black-alone', 'Native American/American Indian-alone pop', '% NA/AI-alone', 'Asian-alone pop', '% Asian-alone', 'Hawaiian/Pacific Islander-alone pop', '% Hawaiian/PI-alone', 'Two or more races pop', '% Two or more races', 'POP_ESTIMATE_2018', 'N_POP_CHG_2018', 'GQ_ESTIMATES_2018', 'R_birth_2018', 'R_death_2018', 'R_NATURAL_INC_2018', 'R_INTERNATIONAL_MIG_2018', 'R_DOMESTIC_MIG_2018', 'R_NET_MIG_2018', 'Less than a high school diploma 2014-18', 'High school diploma only 2014-18', \"Some college or associate's degree 2014-18\", \"Bachelor's degree or higher 2014-18\", 'Percent of adults with less than a high school diploma 2014-18', 'Percent of adults with a high school diploma only 2014-18', \"Percent of adults completing some college or associate's degree 2014-18\", \"Percent of adults with a bachelor's degree or higher 2014-18\", 'POVALL_2018', 'PCTPOVALL_2018', 'PCTPOV017_2018', 'PCTPOV517_2018', 'MEDHHINC_2018', 'CI90LBINC_2018', 'CI90UBINC_2018', 'Civilian_labor_force_2018', 'Employed_2018', 'Unemployed_2018', 'Unemployment_rate_2018', 'Median_Household_Income_2018', 'Med_HH_Income_Percent_of_State_Total_2018', 'Active Physicians per 100000 Population 2018 (AAMC)', 'Total Active Patient Care Physicians per 100000 Population 2018 (AAMC)', 'Active Primary Care Physicians per 100000 Population 2018 (AAMC)', 'Active Patient Care Primary Care Physicians per 100000 Population 2018 (AAMC)', 'Active General Surgeons per 100000 Population 2018 (AAMC)', 'Active Patient Care General Surgeons per 100000 Population 2018 (AAMC)', 'Total nurse practitioners (2019)', 'Total physician assistants (2019)', 'Total Hospitals (2019)', 'Internal Medicine Primary Care (2019)', 'Family Medicine/General Practice Primary Care (2019)', 'Total Specialist Physicians (2019)', 'ICU Beds_x', 'Total Population', 'Population Aged 60+', 'Percent of Population Aged 60+', 'COUNTY_NAME', 'STATE_NAME', 'STATE_FIPS', 'CNTY_FIPS', 'county_pop2018_18 and older', 'anycondition_prevalence', 'anycondition_Lower 95% CI', 'anycondition_Upper 95% CI', 'anycondition_number', 'Obesity_prevalence', 'Obesity_Lower 95% CI', 'Obesity_Upper 95% CI', 'Obesity_number', 'Heart disease_prevalence', 'Heart disease_Lower 95% CI', 'Heart disease_Upper 95% CI', 'Heart disease_number', 'COPD_prevalence', 'COPD_Lower 95% CI', 'COPD_Upper 95% CI', 'COPD_number', 'diabetes_prevalence', 'diabetes_Lower 95% CI', 'diabetes_Upper 95% CI', 'diabetes_number', 'CKD_prevalence', 'CKD_Lower 95% CI', 'CKD_Upper 95% CI', 'CKD_number', 'Urban_rural_code']\n"
                    ]
                }
            ],
            "source": [
                "print(\"THESE ARE ALL THE COLUMNS OF THE DATASET:\")\n",
                "print(df.columns.tolist())"
            ]
        },
        {
            "cell_type": "markdown",
            "metadata": {},
            "source": [
                "<br>\n",
                "\n",
                "**2.2. DATA CLEANING**"
            ]
        },
        {
            "cell_type": "code",
            "execution_count": 31,
            "metadata": {},
            "outputs": [
                {
                    "data": {
                        "text/plain": [
                            "fips                      0\n",
                            "TOT_POP                   0\n",
                            "0-9                       0\n",
                            "0-9 y/o % of total pop    0\n",
                            "19-Oct                    0\n",
                            "                         ..\n",
                            "CKD_prevalence            0\n",
                            "CKD_Lower 95% CI          0\n",
                            "CKD_Upper 95% CI          0\n",
                            "CKD_number                0\n",
                            "Urban_rural_code          0\n",
                            "Length: 108, dtype: int64"
                        ]
                    },
                    "execution_count": 31,
                    "metadata": {},
                    "output_type": "execute_result"
                }
            ],
            "source": [
                "# Check for missing values\n",
                "df.isnull().sum()"
            ]
        },
        {
            "cell_type": "markdown",
            "metadata": {},
            "source": [
                "**OBSERVATIONS:** The result shows that no columns in the DataFrame have any missing values.\n",
                "\n",
                "<br>"
            ]
        },
        {
            "cell_type": "code",
            "execution_count": 32,
            "metadata": {},
            "outputs": [
                {
                    "name": "stdout",
                    "output_type": "stream",
                    "text": [
                        "\n",
                        "Updated Dataset Shape after dropping irrelevant columns: (3140, 107)\n"
                    ]
                }
            ],
            "source": [
                "# Drop irrelevant columns\n",
                "df.drop(columns=['fips'], inplace=True)\n",
                "\n",
                "print(\"\\nUpdated Dataset Shape after dropping irrelevant columns:\", df.shape)\n"
            ]
        },
        {
            "cell_type": "markdown",
            "metadata": {},
            "source": [
                "- **Why 'fips'?** Because it's just a county identifier and doesn't help with the predictive analysis.\n",
                "- **Effect:** The dataset shape changes from (3140, 108) to (3140, 107), confirming that one column was removed.\n",
                "\n",
                "<br>"
            ]
        },
        {
            "cell_type": "code",
            "execution_count": 36,
            "metadata": {},
            "outputs": [
                {
                    "name": "stdout",
                    "output_type": "stream",
                    "text": [
                        "\n",
                        "NUMBER OF DUPLICATE ROWS: 0\n"
                    ]
                }
            ],
            "source": [
                "duplicates = df.duplicated().sum()\n",
                "print(f\"\\nNUMBER OF DUPLICATE ROWS: {duplicates}\")"
            ]
        },
        {
            "cell_type": "code",
            "execution_count": 37,
            "metadata": {},
            "outputs": [],
            "source": [
                "# Convert column names to lowercase and replace spaces with underscores\n",
                "df.columns = df.columns.str.lower().str.replace(' ', '_')\n"
            ]
        },
        {
            "cell_type": "markdown",
            "metadata": {},
            "source": [
                "**Data Formatting**\n",
                "- Ensure all categorical variables are properly encoded.\n",
                "- Standardize column names (if needed)."
            ]
        },
        {
            "cell_type": "markdown",
            "metadata": {},
            "source": [
                "<br>\n",
                "\n",
                "## **STEP 3: UNIVARIATE VARIABLE ANALYSIS**\n",
                "\n",
                "- 3.1."
            ]
        },
        {
            "cell_type": "markdown",
            "metadata": {},
            "source": [
                "**OBJECTIVE OF UNIVARIATE VARIABLE ANALYSIS:** Univariate variable analysis focuses on examining each variable individually to understand its distribution, central tendency, spread, and potential anomalies. This step helps in:\n",
                "\n",
                "-  Identifying data patterns (normal vs. skewed distributions).\n",
                "-  Detecting outliers that may affect model performance.\n",
                "-  Understanding variable importance before feature selection.\n",
                "-  Deciding on transformations (e.g., normalization, log scaling) for better model performance.\n"
            ]
        },
        {
            "cell_type": "code",
            "execution_count": null,
            "metadata": {},
            "outputs": [],
            "source": []
        }
    ],
    "metadata": {
        "kernelspec": {
            "display_name": "Python 3",
            "language": "python",
            "name": "python3"
        },
        "language_info": {
            "codemirror_mode": {
                "name": "ipython",
                "version": 3
            },
            "file_extension": ".py",
            "mimetype": "text/x-python",
            "name": "python",
            "nbconvert_exporter": "python",
            "pygments_lexer": "ipython3",
            "version": "3.12.6"
        },
        "orig_nbformat": 4
    },
    "nbformat": 4,
    "nbformat_minor": 2
}
